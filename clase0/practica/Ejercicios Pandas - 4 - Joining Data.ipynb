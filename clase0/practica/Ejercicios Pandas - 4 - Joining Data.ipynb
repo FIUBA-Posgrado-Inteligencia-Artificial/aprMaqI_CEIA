{
 "cells": [
  {
   "cell_type": "markdown",
   "id": "d11df21e",
   "metadata": {},
   "source": [
    "# Joining Data\n",
    "\n",
    "A continuación tienes un dataset de películas obtenidas de IMDb. La copia de los datos fueron de la base de diferentes tablas y se guardaron en formato pickle.\n",
    "\n",
    "OBS: En las celdas de procesamiento si ves ___ es para que reemplaces.\n",
    "\n",
    "Por un lado se tiene `movies.p` con una tabla con el título de la película, un identificador de la base de datos, popularidad y la fecha de estreno. Y por otro, `financials.p` con una tabla que posee para cada identificador, se presenta el presupuesto y el ingreso que tuvo cada película.\n",
    "\n",
    "OBS: Durante el avanze del notebook cargaremos otros archivos\n",
    "\n",
    "Queremos unir estas dos tablas para saber para unir la información de la película con su información financiera:\n",
    "\n",
    "1. Importa `pandas` como `pd`"
   ]
  },
  {
   "cell_type": "code",
   "execution_count": null,
   "id": "d4087ca0",
   "metadata": {},
   "outputs": [],
   "source": []
  },
  {
   "cell_type": "markdown",
   "id": "ffaa8c1a",
   "metadata": {},
   "source": [
    "2. Lea `\"movies.p\"` y asignalo a `movies`. Imprima la cabecera de `movies` y además vea el tamaño de `movies` usando `.shape`"
   ]
  },
  {
   "cell_type": "code",
   "execution_count": null,
   "id": "b174daef",
   "metadata": {},
   "outputs": [],
   "source": [
    "___ = pd.read_pickle(\"./movies.p\")"
   ]
  },
  {
   "cell_type": "code",
   "execution_count": null,
   "id": "2b627afd",
   "metadata": {},
   "outputs": [],
   "source": []
  },
  {
   "cell_type": "code",
   "execution_count": null,
   "id": "ad5f35d8",
   "metadata": {},
   "outputs": [],
   "source": []
  },
  {
   "cell_type": "markdown",
   "id": "29461252",
   "metadata": {},
   "source": [
    "3. Lea `\"financials.p\"` y asignalo a `financials`. Imprima la cabecera de `financials` y además vea el tamaño de `financials` usando `.shape` "
   ]
  },
  {
   "cell_type": "code",
   "execution_count": null,
   "id": "78c5aebb",
   "metadata": {},
   "outputs": [],
   "source": []
  },
  {
   "cell_type": "code",
   "execution_count": null,
   "id": "95e4107b",
   "metadata": {},
   "outputs": [],
   "source": []
  },
  {
   "cell_type": "code",
   "execution_count": null,
   "id": "232e58cd",
   "metadata": {},
   "outputs": [],
   "source": []
  },
  {
   "cell_type": "markdown",
   "id": "a6503fd6",
   "metadata": {},
   "source": [
    "4. Haga un join entre `movies` y `financials` usando `.merge()`, usando a la columna `\"id\"` como valor para el join. El join debe ser `\"inner\"` (valor por defecto). Asignelo a `movies_with_financials`"
   ]
  },
  {
   "cell_type": "code",
   "execution_count": null,
   "id": "3325210a",
   "metadata": {},
   "outputs": [],
   "source": [
    "___ = movies.merge(right=___, on=[___])"
   ]
  },
  {
   "cell_type": "markdown",
   "id": "6bc8abf7",
   "metadata": {},
   "source": [
    "5. Vea el tamaño de `movies_with_financials` usando `.shape`. ¿Se mantuvieron todas las filas de `movies`? ¿Y de `financials`?"
   ]
  },
  {
   "cell_type": "code",
   "execution_count": null,
   "id": "3165bf44",
   "metadata": {},
   "outputs": [],
   "source": []
  },
  {
   "cell_type": "markdown",
   "id": "fc36b10a",
   "metadata": {},
   "source": [
    "6. Encuentre la película con `movies_with_financials` y la columna `\"budget\"` que más presupuesto tuvo usando `.sort_values()`"
   ]
  },
  {
   "cell_type": "code",
   "execution_count": null,
   "id": "1a4ee45c",
   "metadata": {},
   "outputs": [],
   "source": [
    "___.sort_values(___, ascending=___)"
   ]
  },
  {
   "cell_type": "markdown",
   "id": "b34c85a3",
   "metadata": {},
   "source": [
    "---\n",
    "\n",
    "## Relación uno a uno\n",
    "\n",
    "En una relación uno a uno, cada fila de la tabla de la izquierda está relacionada con una y solo una fila de la tabla de la derecha. Es esperable que cada película tenga un solo presupuesto y un solo ingreso, es decir del join que se obtuvo `movies_with_financials` sea 1 a 1. Vamos a comprobar si esto es así, usando `.drop_duplicates()`:\n",
    "\n",
    "1. Elimina los duplicados de `movies_with_financials` usando `.drop_duplicates()`. Asignalo a `movies_with_financials_no_dup` "
   ]
  },
  {
   "cell_type": "code",
   "execution_count": null,
   "id": "8e12f010",
   "metadata": {},
   "outputs": [],
   "source": []
  },
  {
   "cell_type": "markdown",
   "id": "f2dfe6f1",
   "metadata": {},
   "source": [
    "2. Imprima el tamaño de `movies_with_financials` y de `movies_with_financials_no_dup`. ¿Son diferentes o no? "
   ]
  },
  {
   "cell_type": "code",
   "execution_count": null,
   "id": "4424cbf5",
   "metadata": {},
   "outputs": [],
   "source": []
  },
  {
   "cell_type": "code",
   "execution_count": null,
   "id": "0ede5b6f",
   "metadata": {},
   "outputs": [],
   "source": []
  },
  {
   "cell_type": "markdown",
   "id": "ddb231c0",
   "metadata": {},
   "source": [
    "Otra forma de ver si el join es una a uno es usando el argumento `validate` en el momento que hacemos el join usando `.merge()`.\n",
    "\n",
    "1. Realiza de nuevo el join entre `movies` y `financials`, usando a la columna `\"id\"` como valor para el join. Pero ahora incorpora a `.merge()` el argumento `validate=\"one_to_one\"`."
   ]
  },
  {
   "cell_type": "code",
   "execution_count": null,
   "id": "fc11cc10",
   "metadata": {},
   "outputs": [],
   "source": [
    "___ = ___.merge(___, validate=\"one_to_one\")"
   ]
  },
  {
   "cell_type": "markdown",
   "id": "8c8f30b9",
   "metadata": {},
   "source": [
    "2. ¿El merge se pudo realizar o dio un error?"
   ]
  },
  {
   "cell_type": "markdown",
   "id": "e1bb00e9",
   "metadata": {},
   "source": []
  },
  {
   "cell_type": "markdown",
   "id": "6c6adbe6",
   "metadata": {},
   "source": [
    "---\n",
    "## Relación uno a N\n",
    "\n",
    "El género (acción, comedia, etc) de una película nos permite clasificar a las películas y con ello, si construimos algún sistema de recomendación para usuarios de una plataforma de streaming, tenemos una forma de agrupar a las películas. Por ejemplo, si una persona ve muchas películas de acción y con detectives, se le pueden recomendar películas de ese tipo. \n",
    "\n",
    "Ahora, una película tiene muchos géneros, por lo que un join entre el listado de peliculas y una tabla que no de que género es cada pelicula es esperable tener un join con una relación 1 a N:\n",
    "\n",
    "1. Lea `movie_to_genres.p` y asignalo a `genres`. Imprima las columnas de `genres`. Observe que aparece `\"movie_id\"` que es equivalente a la columna `\"id\"` de `movies`.\n"
   ]
  },
  {
   "cell_type": "code",
   "execution_count": null,
   "id": "a8126e9d",
   "metadata": {},
   "outputs": [],
   "source": [
    "___ = pd.read_pickle(___)"
   ]
  },
  {
   "cell_type": "code",
   "execution_count": null,
   "id": "540a2686",
   "metadata": {},
   "outputs": [],
   "source": [
    "___.columns"
   ]
  },
  {
   "cell_type": "markdown",
   "id": "622356da",
   "metadata": {},
   "source": [
    "2. Realiza el join de tipo inner entre `movies` y `genres` usando *id*. Pero teniendo en cuenta la diferencia en la forma en que se llama *id* en ambos DataFrames. Para esto en vez de usar `on=\"id\"`, use los argumento `left_on` y `right_on` indicando el nombre de la columna en cada argumento dependiendo de qué DataFrame está de cada lado. Asignelo a `movies_with_genre`."
   ]
  },
  {
   "cell_type": "code",
   "execution_count": null,
   "id": "d3cb5875",
   "metadata": {},
   "outputs": [],
   "source": [
    "___ = movies.merge(right=___, left_on=___, right_on=___)"
   ]
  },
  {
   "cell_type": "markdown",
   "id": "028928aa",
   "metadata": {},
   "source": [
    "3. Imprima el tamaño de `movies_with_genre` y además calcule cuánto creció en cantidad de filas con respecto a `movies`."
   ]
  },
  {
   "cell_type": "code",
   "execution_count": null,
   "id": "a0285057",
   "metadata": {},
   "outputs": [],
   "source": []
  },
  {
   "cell_type": "code",
   "execution_count": null,
   "id": "91cb101e",
   "metadata": {},
   "outputs": [],
   "source": [
    "___ / movies.shape[__]"
   ]
  },
  {
   "cell_type": "markdown",
   "id": "abf8e1eb",
   "metadata": {},
   "source": [
    "4. Quite la columna `\"movie_id\"` de `movies_with_genre`. Se puede realizar usando slicing de columnas o usando el metodo `.drop()` con `axis=1` e `inplace=True`"
   ]
  },
  {
   "cell_type": "code",
   "execution_count": null,
   "id": "831f7f24",
   "metadata": {},
   "outputs": [],
   "source": [
    "movies_with_genre.drop(__, axis=1, inplace=True)"
   ]
  },
  {
   "cell_type": "code",
   "execution_count": null,
   "id": "9d6a4d8e",
   "metadata": {},
   "outputs": [],
   "source": []
  },
  {
   "cell_type": "markdown",
   "id": "665357c3",
   "metadata": {},
   "source": [
    "---\n",
    "\n",
    "## Multiple joins\n",
    "\n",
    "Se quiere saber de las películas con un voto de popularidad promedio mayor a 8, cuál es su elenco. Esto se puede lograr con joins, pero necesitamos realizar varios joins para llegar a esta información, ya que la información está en diferentes tablas, y para unir esta información usaremos a `movies` como DataFrame que une la información de las otras tablas...\n",
    "\n",
    "1. Lea `ratings.p` y asignalo a `ratings`"
   ]
  },
  {
   "cell_type": "code",
   "execution_count": null,
   "id": "9aeffa4b",
   "metadata": {},
   "outputs": [],
   "source": []
  },
  {
   "cell_type": "markdown",
   "id": "8c504b26",
   "metadata": {},
   "source": [
    "2. Lea `actors_movies.p` y asignalo a `actors_movies`"
   ]
  },
  {
   "cell_type": "code",
   "execution_count": null,
   "id": "d16f3364",
   "metadata": {},
   "outputs": [],
   "source": []
  },
  {
   "cell_type": "markdown",
   "id": "d91bd6ee",
   "metadata": {},
   "source": [
    "3. Haz un join entre `movies` y `ratings` usando como llave a la columna `\"id\"`. Asignelo a `movies_with_ratings`"
   ]
  },
  {
   "cell_type": "code",
   "execution_count": null,
   "id": "fe86decc",
   "metadata": {},
   "outputs": [],
   "source": [
    "___ = ___.merge(right=___, ___)"
   ]
  },
  {
   "cell_type": "markdown",
   "id": "782d27e9",
   "metadata": {},
   "source": [
    "4. Haz un segundo join entre `movies_with_ratings` y `actors_movies` usando como llave a la columna `\"title\"`. Asignalo a `movies_with_ratings_actorlist`"
   ]
  },
  {
   "cell_type": "code",
   "execution_count": null,
   "id": "dccaca0f",
   "metadata": {},
   "outputs": [],
   "source": []
  },
  {
   "cell_type": "markdown",
   "id": "3658753f",
   "metadata": {},
   "source": [
    "5. Filtre las películas de `movies_with_ratings_actorlist` con un `\"vote_average\"` de mayor a 8 e imprima el resultado, realizando un slicing de las columnas `\"title\"` y `\"actor\"`."
   ]
  },
  {
   "cell_type": "code",
   "execution_count": null,
   "id": "7aa04635",
   "metadata": {},
   "outputs": [],
   "source": [
    "___.loc[___, [___, ___]]"
   ]
  },
  {
   "cell_type": "markdown",
   "id": "8287f2fb",
   "metadata": {},
   "source": [
    "----\n",
    "\n",
    "## Left join\n",
    "\n",
    "Establecer `how='left'` con el método `.merge()` es una técnica útil para enriquecer o mejorar un conjunto de datos con información adicional de una tabla diferente, pero sin perder ningún dato del DataFrame original.\n",
    "\n",
    "Para esto, vamos a agregar a nuestro DataFrame `movie` el tagline (o slogan) que tiene una pelicula. Como sabemos, no toda pelicula tiene un tagline, por lo que vamos a usar un join de tipo left. Particularmente nos vamos a centrar en la peliculas de `Toy Story`.\n",
    "\n",
    "Recuerden que se puede filtrar en pandas usando métodos de strings:\n",
    "\n",
    "``` Python\n",
    "df_eduardos = df[df[\"nombre_completo\"].str.contains(\"Eduardo\")]\n",
    "```\n",
    "\n",
    "1. Filtre en `movies` a las películas que tengan en el título el string `\"Toy Story\"`. Además del filtrado, haga una copia usando `.copy()`. Asignelo a `toy_story`."
   ]
  },
  {
   "cell_type": "code",
   "execution_count": null,
   "id": "d0e15131",
   "metadata": {},
   "outputs": [],
   "source": [
    "___ = movies[movies[___].str.contains(___)]"
   ]
  },
  {
   "cell_type": "markdown",
   "id": "f80700f8",
   "metadata": {},
   "source": [
    "2. Lea `taglines.p` y asignalo a `taglines`"
   ]
  },
  {
   "cell_type": "code",
   "execution_count": null,
   "id": "51845079",
   "metadata": {},
   "outputs": [],
   "source": []
  },
  {
   "cell_type": "markdown",
   "id": "c78c10bf",
   "metadata": {},
   "source": [
    "3. Haz un join del tipo left (usando `how=”left”`) entre `toy_story` y `taglines` usando como key a `\"id\"`. Asignalo a `toy_story_tagline`"
   ]
  },
  {
   "cell_type": "code",
   "execution_count": null,
   "id": "0285912c",
   "metadata": {},
   "outputs": [],
   "source": [
    "___ = ___.merge(___, how=\"left\")"
   ]
  },
  {
   "cell_type": "markdown",
   "id": "15caac14",
   "metadata": {},
   "source": [
    "4. Imprima `toy_story_tagline`. ¿Que película no tuvo un tagline?"
   ]
  },
  {
   "cell_type": "code",
   "execution_count": null,
   "id": "7775ee11",
   "metadata": {},
   "outputs": [],
   "source": []
  },
  {
   "cell_type": "markdown",
   "id": "3432975b",
   "metadata": {},
   "source": [
    "---\n",
    "\n",
    "## Right join para para encontrar películas únicas\n",
    "\n",
    "La mayoría de las películas de los últimos tiempos de ciencia ficción de gran presupuesto también pueden clasificarse como películas de acción. Tienes una tabla de películas de ciencia ficción en `scifi.p` y otra tabla de películas de acción en `action.p`. Tu objetivo es encontrar qué películas se consideran solo películas de ciencia ficción. Una vez que tenga esta tabla, puedes hacer un merge con la tabla de películas para ver los nombres de las películas.\n",
    "\n",
    "1. `Lea scifi.p` y asignalo a `scifi`\n"
   ]
  },
  {
   "cell_type": "code",
   "execution_count": null,
   "id": "dc9f3255",
   "metadata": {},
   "outputs": [],
   "source": []
  },
  {
   "cell_type": "markdown",
   "id": "e9dabcb7",
   "metadata": {},
   "source": [
    "2. Lea `action.p` y asignalo a `action`"
   ]
  },
  {
   "cell_type": "code",
   "execution_count": null,
   "id": "3d3fa8d7",
   "metadata": {},
   "outputs": [],
   "source": []
  },
  {
   "cell_type": "markdown",
   "id": "d04afbd7",
   "metadata": {},
   "source": [
    "3. Haz un merge entre `action` y `scifi` (en ese orden) usando un join de derecha (`how=\"right\"`) y como llave a `\"movie_id`. Agrega a `.merge()` los sufijos para indicar de donde vienen las columnas usando `suffixes=('_act', '_sci')`.  Guarda el resultado como action_scifi."
   ]
  },
  {
   "cell_type": "code",
   "execution_count": null,
   "id": "c85bde1a",
   "metadata": {},
   "outputs": [],
   "source": [
    "___ = ___.merge(___, suffixes=('_act', '_sci'))"
   ]
  },
  {
   "cell_type": "markdown",
   "id": "45166b20",
   "metadata": {},
   "source": [
    "4. Desde `action_scifi`, filtre las filas en donde `genre_act` es NaN y guardalo en `scifi_only`"
   ]
  },
  {
   "cell_type": "code",
   "execution_count": null,
   "id": "b1050a7a",
   "metadata": {},
   "outputs": [],
   "source": []
  },
  {
   "cell_type": "markdown",
   "id": "0e017397",
   "metadata": {},
   "source": [
    "5. Haz un inner join entre `scifi_only` y `movies`. Pero teniendo en cuenta la diferencia en la forma en que se llama id en ambos DataFrames. Para esto en vez de usa `on=\"id\"`, use los argumento `left_on` y `right_on` indicando el nombre de la columna en cada argumento dependiendo de qué DataFrame está de cada lado. "
   ]
  },
  {
   "cell_type": "code",
   "execution_count": null,
   "id": "78b3f7d6",
   "metadata": {},
   "outputs": [],
   "source": []
  },
  {
   "cell_type": "markdown",
   "id": "8017b679",
   "metadata": {},
   "source": [
    "----\n",
    "# Usando outer join para seleccionar actores\n",
    "\n",
    "Un aspecto interesante de usar outer joins es que, debido a que devuelve a todas las filas que son parte del join y aquellas que no pero con valores nulos, se puede usar para encontrar aquellas filas que no tengan coincidencia entre las tablas.\n",
    "\n",
    "Para probar esto, vamos a ver a los actores de Iron Man 1 e Iron Man 2. La mayoría de los actores actuaron en ambas películas, pero hay actores que no. Usando outer join vamos a ver cuales son los actores que actuaron en una sola película.\n",
    "\n",
    "1. `Lea iron_man.p` y asignalo a `iron_man`"
   ]
  },
  {
   "cell_type": "code",
   "execution_count": null,
   "id": "d3688c97",
   "metadata": {},
   "outputs": [],
   "source": []
  },
  {
   "cell_type": "markdown",
   "id": "43d89437",
   "metadata": {},
   "source": [
    "2. `Lea iron_man_2.p` y asignalo a `iron_man_2`"
   ]
  },
  {
   "cell_type": "code",
   "execution_count": null,
   "id": "a8de3964",
   "metadata": {},
   "outputs": [],
   "source": []
  },
  {
   "cell_type": "markdown",
   "id": "109504bc",
   "metadata": {},
   "source": [
    "3. Haz un outer join (`how=\"outer\"`) entre `iron_man` y `iron_man_2`, con sufijos `('_1','_2')` correspondiente a cada película. Como llave use `\"id\"` que corresponde al identificador del actor. Asignelo a `iron_man_1_2`"
   ]
  },
  {
   "cell_type": "code",
   "execution_count": null,
   "id": "b920777b",
   "metadata": {},
   "outputs": [],
   "source": [
    "___ = ___.merge(___, suffixes=___)"
   ]
  },
  {
   "cell_type": "markdown",
   "id": "9c00da4c",
   "metadata": {},
   "source": [
    "4. Filtre a `iron_man_1_2` para los casos en donde las columnas `\"name_1\"` o `\"name_2\"` es NaN. Imprima las columnas `\"name_1\"` y `\"name_2\"` de este resultado"
   ]
  },
  {
   "cell_type": "code",
   "execution_count": null,
   "id": "f847b405",
   "metadata": {},
   "outputs": [],
   "source": []
  },
  {
   "cell_type": "markdown",
   "id": "94b34474",
   "metadata": {},
   "source": [
    "----\n",
    "\n",
    "## Auto-join\n",
    "\n",
    "Fusionar una tabla consigo misma puede ser útil cuando desea comparar valores en una columna con otros valores en la misma columna. Aquí vamos a hacer un auto-join para tener un listado del director de una película y un miembro del equipo. Para eso, vamos a usar `crews.p`, que tiene una tabla con columnas `\"id\"`, `\"job\"` y `\"name\"`.\n",
    "\n",
    "1. Lea `crews.p` y asignalo a `crews`"
   ]
  },
  {
   "cell_type": "code",
   "execution_count": null,
   "id": "e877dcfc",
   "metadata": {},
   "outputs": [],
   "source": []
  },
  {
   "cell_type": "markdown",
   "id": "07893a2b",
   "metadata": {},
   "source": [
    "2. Haga un auto-join de `crews` usando a la columna `\"id\"` como key. Use los sufijos `('_dir','_crew')`. Asignelo a `crews_self_merged`."
   ]
  },
  {
   "cell_type": "code",
   "execution_count": null,
   "id": "31c10b2a",
   "metadata": {},
   "outputs": [],
   "source": [
    "___ = ___.merge(right=___, on=___, suffixes=___)"
   ]
  },
  {
   "cell_type": "markdown",
   "id": "41acdd52",
   "metadata": {},
   "source": [
    "3. Filtre a `crews_self_merged`, dejando solamente las filas en donde la columna `job_dir` sea igual a `\"Director\"`, y además que la columna `job_crew` sea distinta a `\"Director\"`. Asigenlo a `direct_crews`"
   ]
  },
  {
   "cell_type": "code",
   "execution_count": null,
   "id": "ab7d6061",
   "metadata": {},
   "outputs": [],
   "source": []
  },
  {
   "cell_type": "markdown",
   "id": "b205f4f1",
   "metadata": {},
   "source": [
    "4. Elimina los duplicados de `direct_crews`, usando `.drop_duplicates()` y con `inplace=True`"
   ]
  },
  {
   "cell_type": "code",
   "execution_count": null,
   "id": "20db302d",
   "metadata": {},
   "outputs": [],
   "source": []
  },
  {
   "cell_type": "markdown",
   "id": "a53ff2ed",
   "metadata": {},
   "source": [
    "5. Muestre la cabecera de `direct_crews`"
   ]
  },
  {
   "cell_type": "code",
   "execution_count": null,
   "id": "af065b60",
   "metadata": {},
   "outputs": [],
   "source": []
  },
  {
   "cell_type": "markdown",
   "id": "d507e600",
   "metadata": {},
   "source": [
    "---\n",
    "\n",
    "## Concatenando\n",
    "\n",
    "Para este ejercicio usaremos los csv `abbey.csv`, `help.csv` y `pepper.csv`. Los cuales tienen las canciones de tres discos de los Beatles. La información proviene de los discos Abbey Road, Help! y Sgt. Pepper's Lonely Hearts Club Band. Usando estos tres csv vamos a ir probando varios tipos de concatenados:\n",
    "\n",
    "1. Lea `abbey.csv` y asignalo a `beat_abbey`"
   ]
  },
  {
   "cell_type": "code",
   "execution_count": null,
   "id": "52f4e341",
   "metadata": {},
   "outputs": [],
   "source": [
    "___ = pd.read_csv(___)"
   ]
  },
  {
   "cell_type": "markdown",
   "id": "e97e8250",
   "metadata": {},
   "source": [
    "2. Lea `help.csv` y asignalo a `beat_help`"
   ]
  },
  {
   "cell_type": "code",
   "execution_count": null,
   "id": "8a0b96b4",
   "metadata": {},
   "outputs": [],
   "source": []
  },
  {
   "cell_type": "markdown",
   "id": "1d48a182",
   "metadata": {},
   "source": [
    "3. Lea `pepper.csv` y asignalo a `beat_pepper`"
   ]
  },
  {
   "cell_type": "code",
   "execution_count": null,
   "id": "78a9183d",
   "metadata": {},
   "outputs": [],
   "source": []
  },
  {
   "cell_type": "markdown",
   "id": "4e9e9412",
   "metadata": {},
   "source": [
    "4. Concatene `beat_help`, `beat_abbey` y `beat_pepper`, en ese orden, configurando sort en `True` (usando `sort=True`)."
   ]
  },
  {
   "cell_type": "code",
   "execution_count": null,
   "id": "c6bc5c26",
   "metadata": {},
   "outputs": [],
   "source": [
    "pd.concat([___, ___, ___], sort=True)"
   ]
  },
  {
   "cell_type": "markdown",
   "id": "f93eaf57",
   "metadata": {},
   "source": [
    "5. Concatene `beat_pepper`, `beat_help` y `beat_abbey`, en ese orden, configurando sort en `True` y además ignorando el index (usando `ignore_index=True`)"
   ]
  },
  {
   "cell_type": "code",
   "execution_count": null,
   "id": "8f2be760",
   "metadata": {},
   "outputs": [],
   "source": []
  }
 ],
 "metadata": {
  "kernelspec": {
   "display_name": "Python 3 (ipykernel)",
   "language": "python",
   "name": "python3"
  },
  "language_info": {
   "codemirror_mode": {
    "name": "ipython",
    "version": 3
   },
   "file_extension": ".py",
   "mimetype": "text/x-python",
   "name": "python",
   "nbconvert_exporter": "python",
   "pygments_lexer": "ipython3",
   "version": "3.9.13"
  }
 },
 "nbformat": 4,
 "nbformat_minor": 5
}
