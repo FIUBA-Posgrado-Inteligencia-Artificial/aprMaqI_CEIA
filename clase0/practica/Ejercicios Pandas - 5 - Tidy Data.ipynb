{
 "cells": [
  {
   "cell_type": "markdown",
   "id": "dc291052",
   "metadata": {},
   "source": [
    "# Tidy Data\n",
    "La idea principal del concepto de *Tidy Data* es estructurar conjuntos de datos para facilitar el análisis. Nuestro vocabulario de filas y columnas simplemente no es lo suficientemente rico.\n",
    "\n",
    "Un dataset, como vimos en general, es una colección de valores, numeros (cuantitativos) o strings (cualitativos)\n",
    "\n",
    "Recordemos el principio de *Tidy Data*:\n",
    "\n",
    "- Cada *valor* corresponde a una *variable* y a una *observación*.\n",
    "- Una *variable* tiene todos los valores medidos de todas las muestras sobre un atributo subyacente.\n",
    "- Una *observación* contiene todos los valores medidos de una muestra en todos los atributos.\n",
    "\n",
    "Llevando a ordenar a nuestros DataFrames de la siguiente manera:\n",
    "\n",
    "- Cada *variable* es una *columna*.\n",
    "- Cada *observación* es una *fila*.\n",
    "- Cada *celda* es un *valor*.\n",
    "- Cada *unidad de observación* es una *tabla*.\n",
    "\n",
    "Para este ejercicio vamos a trabajar con el csv de la población de países (`countries_population.csv`)\n",
    "\n",
    "OBS: En las celdas de procesamiento si ves ___ es para que reemplaces.\n",
    "\n",
    "1. Importa `pandas` como `pd`"
   ]
  },
  {
   "cell_type": "code",
   "execution_count": null,
   "id": "1b41768e",
   "metadata": {},
   "outputs": [],
   "source": []
  },
  {
   "cell_type": "markdown",
   "id": "40de17a7",
   "metadata": {},
   "source": [
    "2. Lea `countries_population.csv` y asignalo a `population` "
   ]
  },
  {
   "cell_type": "code",
   "execution_count": null,
   "id": "923ddbcd",
   "metadata": {},
   "outputs": [],
   "source": [
    "___ = ___.read_csv(___)"
   ]
  },
  {
   "cell_type": "markdown",
   "id": "b8756676",
   "metadata": {},
   "source": [
    "3. Imprima la cabecera de `population`"
   ]
  },
  {
   "cell_type": "code",
   "execution_count": null,
   "id": "d344d7d2",
   "metadata": {},
   "outputs": [],
   "source": []
  },
  {
   "cell_type": "markdown",
   "id": "0a5ab306",
   "metadata": {},
   "source": [
    "4. Imprima las columnas de `population`"
   ]
  },
  {
   "cell_type": "code",
   "execution_count": null,
   "id": "93f5440d",
   "metadata": {},
   "outputs": [],
   "source": []
  },
  {
   "cell_type": "markdown",
   "id": "301079b2",
   "metadata": {},
   "source": [
    "Por lo que podemos ver, en este dataframe, tenemos para cada país tenemos la población desde 1960 a 2021 distribuida en columnas. Este tipo de ordenamiento de los datos se llama de forma tabular, que es la típica utilizada en planillas de cálculo. Facilita la visualización de datos, pero no es óptima para automatizar algoritmos que nos permitan procesar nuestros datos.\n",
    "\n",
    "Por lo que vamos a pasar nuestro DataFrame a formato Tidy. Pero antes, debemos quitar toda la información que no necesitamos de nuestro DataFrame. La unidad de observación es la población mundial durante los años, por lo que el resto de información es redundante. Las columnas `\"Country Code\"`, `\"Indicator Name\"`, `\"Indicator Code\"` y `\"Unnamed: 66\"` no las necesitamos:\n",
    "\n",
    "1. Cree una lista con los nombres de todas las columnas que queremos quitar llamada `columns_to_drop_list`"
   ]
  },
  {
   "cell_type": "code",
   "execution_count": null,
   "id": "5553a8cd",
   "metadata": {},
   "outputs": [],
   "source": [
    "columns_to_drop_list = [__, __, __, __]"
   ]
  },
  {
   "cell_type": "markdown",
   "id": "6045ced6",
   "metadata": {},
   "source": [
    "2. Usando el método `.drop()` quite las columnas de `population`. Utilice como argumento a `columns_to_drop_list`, `axis=1` y `inplace=True`"
   ]
  },
  {
   "cell_type": "code",
   "execution_count": null,
   "id": "bfc97b97",
   "metadata": {},
   "outputs": [],
   "source": [
    "population.___(___, ___, ___)"
   ]
  },
  {
   "cell_type": "markdown",
   "id": "adef30ae",
   "metadata": {},
   "source": [
    "3. Imprima la cabecera de `population`"
   ]
  },
  {
   "cell_type": "markdown",
   "id": "b4418547",
   "metadata": {},
   "source": [
    "----\n",
    "## Armando nuestro Tidy DataFrame\n",
    "\n",
    "Ya con nuestro DataFrame más limpio, vamos a pasarlo a un formato Tidy, para ello intentemos entender que de nuestra data es una variable y una observación:\n",
    "\n",
    "- **Variables**:\n",
    "    - **Nombre del país**: Es el nombre del país al que se registra la población del país. \n",
    "      Es una variable fija, que sabemos de antemano a la medición. \n",
    "      El tipo de valores que puede asumir esta variable son strings. \n",
    "      El dominio de esta variable es el conjunto de nombres de países.\n",
    "    - **Año de medición**: Es el año en que se midió el tamaño de la población de algún país. \n",
    "      Es una variable fija, que sabemos de antemano a la medición. \n",
    "      El tipo de valores que puede asumir esta variable son enteros.\n",
    "      El dominio de esta variable va de 1960 a 2021.\n",
    "    - **Población**: Es el tamaño de la población de un país en un año particular.\n",
    "      Es una variable medible, que se registra en el experimento.\n",
    "      El tipo de valores que puede asumir esta variable son enteros.\n",
    "      El dominio de esta variable es el conjunto de números naturales incluido el cero.\n",
    "- **Observación**: Una observación en este caso es el registro de la población de un país en un país específico. La observación tendrá tres valores, uno por variable (país, año y población).\n",
    "\n",
    "Vemos que `population` tiene valores como columnas que son el año de medición de la población.\n",
    "\n",
    "Teniendo esto en cuenta, vamos a transformar a nuestro DataFrame en Tidy usando `pd.melt()`:\n",
    "\n",
    "- La columna `\"Country Name\"` es correcta, es decir, es una variable con sus valores, por lo que no necesitamos transformarlo, lo podemos poner en `id_vars` de `pd.melt()`.\n",
    "- En cambio las columnas de años la necesitamos transformarlo, entonces irá en `value_vars` de `pd.melt()`.\n",
    "\n",
    "1. Cree una lista con los valores desde 1960 a 2021 usando un ciclo `for` y `range()`. Llame a la lista `years`."
   ]
  },
  {
   "cell_type": "code",
   "execution_count": null,
   "id": "20984057",
   "metadata": {},
   "outputs": [],
   "source": [
    "___ = list()\n",
    "\n",
    "for i in range(___, ___):\n",
    "    ___.append(i)"
   ]
  },
  {
   "cell_type": "markdown",
   "id": "819055f0",
   "metadata": {},
   "source": [
    "2. Convierta los valores de `years` en strings (`str`)"
   ]
  },
  {
   "cell_type": "code",
   "execution_count": null,
   "id": "db0c6649",
   "metadata": {},
   "outputs": [],
   "source": [
    "___ = [str(x) for x in ___]"
   ]
  },
  {
   "cell_type": "markdown",
   "id": "fe315000",
   "metadata": {},
   "source": [
    "3. Transforme a `population` usando `pd.melt()`, asigne el resultado a `population_tidy`. Como dijimos a la columna `\"Country Name\"` la guardamos en `id_vars`. Para `value_vars` use la lista `years`. A la columna que incorpore los valores de los años, llamela `\"year\"` (`var_name=\"year\"`), y a la columna que incorpore la población, llamela `\"population\"` (`value_name=\"population\"`)"
   ]
  },
  {
   "cell_type": "code",
   "execution_count": null,
   "id": "01b28cf3",
   "metadata": {},
   "outputs": [],
   "source": [
    "___ = pd.melt(___, id_vars=___, value_vars=___, var_name=___, value_name=___)"
   ]
  },
  {
   "cell_type": "markdown",
   "id": "cc383a0f",
   "metadata": {},
   "source": [
    "4. Imprima la cabecera de `population_tidy`"
   ]
  },
  {
   "cell_type": "code",
   "execution_count": null,
   "id": "08087315",
   "metadata": {},
   "outputs": [],
   "source": []
  },
  {
   "cell_type": "markdown",
   "id": "36b1196e",
   "metadata": {},
   "source": [
    "----\n",
    "## Limpiando nuesto Tidy DataFrame\n",
    "\n",
    "Ya tenemos a nuestro dataframe prácticamente ordenado, pero debemos hacer algunos cambios. La columna `\"Country Name\"` no es recomendable que tenga mayúscula, por lo que  vamos a cambiar a las columnas a `[\"country\", \"year\", \"population\"]`:\n",
    "\n",
    "1. Renombre a las columnas de `population_tidy` en `[\"country\", \"year\", \"population\"]`."
   ]
  },
  {
   "cell_type": "code",
   "execution_count": null,
   "id": "ca68cd3e",
   "metadata": {},
   "outputs": [],
   "source": []
  },
  {
   "cell_type": "markdown",
   "id": "f19ebd9d",
   "metadata": {},
   "source": [
    "Veamos si hay valores NaN en nuestro DataFrame:\n",
    "\n",
    "1. Vea la información de columnas y valores faltantes de `population_tidy` usando `.info()`"
   ]
  },
  {
   "cell_type": "code",
   "execution_count": null,
   "id": "bc039f11",
   "metadata": {},
   "outputs": [],
   "source": []
  },
  {
   "cell_type": "markdown",
   "id": "34a8380a",
   "metadata": {},
   "source": [
    "2. Como podemos ver, `\"country\"` y `\"year\"` están completas pero `\"population\"` tiene valores faltantes. Chequemos esto usando slicing con `.loc[]` de `population_tidy` con el método `.isna()` para la columna `\"population\"`. Imprima la cabecera de este filtrado."
   ]
  },
  {
   "cell_type": "code",
   "execution_count": null,
   "id": "0a441c76",
   "metadata": {},
   "outputs": [],
   "source": [
    "___.loc[___[___].isna()]"
   ]
  },
  {
   "cell_type": "markdown",
   "id": "5e5c3fad",
   "metadata": {},
   "source": [
    "3. Quite los NaN de `population_tidy` usando `.dropna()` y además resete el index usando `.reset_index()` con `drop=True`."
   ]
  },
  {
   "cell_type": "code",
   "execution_count": null,
   "id": "75c28078",
   "metadata": {},
   "outputs": [],
   "source": [
    "___.___(inplace=True)"
   ]
  },
  {
   "cell_type": "code",
   "execution_count": null,
   "id": "65954714",
   "metadata": {},
   "outputs": [],
   "source": [
    "___.___(drop=True, inplace=True)"
   ]
  },
  {
   "cell_type": "markdown",
   "id": "cb2ccec1",
   "metadata": {},
   "source": [
    "4. Vea de nuevo la información de columnas y valores faltantes de `population_tidy` usando `.info()`"
   ]
  },
  {
   "cell_type": "code",
   "execution_count": null,
   "id": "8e1bccef",
   "metadata": {},
   "outputs": [],
   "source": []
  },
  {
   "cell_type": "markdown",
   "id": "ccb87ac0",
   "metadata": {},
   "source": [
    "Hemos quitado los valores NaN porque no nos dan información, en el contexto de este DataFrame es que no se hizo la medición de población en ese año, por lo que es lo mismo a que no esté la información en el dataset.\n",
    "\n",
    "Ahora, analizando `.info()`, vemos que las columnas `\"year\"` y `\"population\"` no están como el tipo de variable que debe ser, por lo que vamos a transformarlos:\n",
    "\n",
    "1. Transforme a la columna `\"year\"` de `population_tidy` en tipo entera (`int`) usando el método `.astype()`"
   ]
  },
  {
   "cell_type": "code",
   "execution_count": null,
   "id": "68f3091a",
   "metadata": {},
   "outputs": [],
   "source": [
    "population_tidy[___] = population_tidy[___].astype(___)"
   ]
  },
  {
   "cell_type": "markdown",
   "id": "289baa55",
   "metadata": {},
   "source": [
    "2. Transforme a la columna `\"population\"` de `population_tidy`en tipo entera (`int`) usando el método `.astype()` "
   ]
  },
  {
   "cell_type": "code",
   "execution_count": null,
   "id": "d7f9640d",
   "metadata": {},
   "outputs": [],
   "source": []
  },
  {
   "cell_type": "markdown",
   "id": "0d7ab12e",
   "metadata": {},
   "source": [
    "3. Imprima los tipos que son cada columnas de `population_tidy` usando `.dtypes`"
   ]
  },
  {
   "cell_type": "code",
   "execution_count": null,
   "id": "ac5e8863",
   "metadata": {},
   "outputs": [],
   "source": []
  },
  {
   "cell_type": "markdown",
   "id": "9830841a",
   "metadata": {},
   "source": [
    "4. Imprima la cabecera de `population_tidy`"
   ]
  },
  {
   "cell_type": "code",
   "execution_count": null,
   "id": "79a2d459",
   "metadata": {},
   "outputs": [],
   "source": []
  },
  {
   "cell_type": "markdown",
   "id": "d500500a",
   "metadata": {},
   "source": [
    "Por último vamos a ordenar nuestro dataframe por año y país (en ese orden), ambos de forma ascendente:\n",
    "\n",
    "1. Ordena a  `population_tidy` los valores usando `.sort_values()`, tomando las columnas `\"year\"` y `\"country\"` en ese orden. Asignalo al mismo DataFrame `population_tidy`"
   ]
  },
  {
   "cell_type": "code",
   "execution_count": null,
   "id": "974b6fa9",
   "metadata": {},
   "outputs": [],
   "source": [
    "___ = ___.sort_values([___, ___])"
   ]
  },
  {
   "cell_type": "markdown",
   "id": "d92555bd",
   "metadata": {},
   "source": [
    "----\n",
    "## Usando el Tidy Datafram\n",
    "\n",
    "Ahora tenemos nuestros datos en formato Tidy Data. Trabajando con `population_tidy` podemos hacer algunos slicing para ver cómo funciona:\n",
    "\n",
    "1. Filtre todas las filas en donde `\"country\"` es igual a `\"Argentina\"`. Imprima el resultado"
   ]
  },
  {
   "cell_type": "code",
   "execution_count": null,
   "id": "f6d790cd",
   "metadata": {},
   "outputs": [],
   "source": []
  },
  {
   "cell_type": "markdown",
   "id": "f84c36a1",
   "metadata": {},
   "source": [
    "2. Filtre todas las filas en donde `\"country\"` es igual a `\"Argentina\"` y `\"year\"` va de `2010` en adelante. Imprima el resultado"
   ]
  },
  {
   "cell_type": "code",
   "execution_count": null,
   "id": "87677bf1",
   "metadata": {},
   "outputs": [],
   "source": []
  },
  {
   "cell_type": "markdown",
   "id": "855d82ba",
   "metadata": {},
   "source": [
    "3. Filtre todas las filas en donde `\"population\"` es mayor o igual a 45.000.000 y menor o igual a 46.000.000. Imprima el resultado"
   ]
  },
  {
   "cell_type": "code",
   "execution_count": null,
   "id": "2de85f8c",
   "metadata": {},
   "outputs": [],
   "source": []
  },
  {
   "cell_type": "markdown",
   "id": "9d5c2be7",
   "metadata": {},
   "source": [
    "Este último filtrado nos devuelve los países que tuvieron en el pasado la población de Argentina en 2021.\n",
    "\n",
    "---\n",
    "## Volviendo a formato tabular\n",
    "\n",
    "Por último, por ahí deseamos volver a tener nuestros datos en forma tabular, para una presentación o para exportarse para un paper. Para ello, podemos usar `pd.pivot_table()`. Queremos que las filas sean cada país y que las columnas sean los años y la población sea el valor de cada celda correspondiente a la intersección de un país y un año en particular.\n",
    "\n",
    "En `pd.pivot_table()`, podemos indicar qué columnas sus valores se transformen en filas (usando el argumento `index`), qué columnas sus valores se transformen en columnas (usando el argumento `columns`) y la columna que usaremos para rellenar las intersecciones (usando el argumento `values`). \n",
    "\n",
    "``` Python\n",
    "df_pivoted = pivot_table(df, index=[\"col_1\", \"col_2\"], columns=[\"col_3\", \"col_4\"], values=\"col_5\")\n",
    "```\n",
    "\n",
    "1. Cree una tabla tabulada de `population_tidy` usando como fila a `\"country\"` y columna a `\"year\"` y valores a `\"population\"`. Asignelo a `population_pivot`"
   ]
  },
  {
   "cell_type": "code",
   "execution_count": null,
   "id": "2ed5c24a",
   "metadata": {},
   "outputs": [],
   "source": [
    "___ = pd.pivot_table(___, index=___, columns=___, values=___)"
   ]
  },
  {
   "cell_type": "markdown",
   "id": "8d70560e",
   "metadata": {},
   "source": [
    "2. Imprima la cabecera de `population_pivot`"
   ]
  },
  {
   "cell_type": "code",
   "execution_count": null,
   "id": "27052fa2",
   "metadata": {},
   "outputs": [],
   "source": []
  },
  {
   "cell_type": "markdown",
   "id": "a505acea",
   "metadata": {},
   "source": [
    "3. Cree una tabla tabulada de `population_tidy` usando como fila a `\"year\"` y columna a `\"country\"` y valores a `\"population\"`. Asignelo a `population_pivot_2`"
   ]
  },
  {
   "cell_type": "code",
   "execution_count": null,
   "id": "21a99e71",
   "metadata": {},
   "outputs": [],
   "source": []
  },
  {
   "cell_type": "markdown",
   "id": "b74a8769",
   "metadata": {},
   "source": [
    "4. Imprima la cabecera de `population_pivot_2`"
   ]
  },
  {
   "cell_type": "code",
   "execution_count": null,
   "id": "2fd57e33",
   "metadata": {},
   "outputs": [],
   "source": []
  }
 ],
 "metadata": {
  "kernelspec": {
   "display_name": "Python 3 (ipykernel)",
   "language": "python",
   "name": "python3"
  },
  "language_info": {
   "codemirror_mode": {
    "name": "ipython",
    "version": 3
   },
   "file_extension": ".py",
   "mimetype": "text/x-python",
   "name": "python",
   "nbconvert_exporter": "python",
   "pygments_lexer": "ipython3",
   "version": "3.9.13"
  }
 },
 "nbformat": 4,
 "nbformat_minor": 5
}
