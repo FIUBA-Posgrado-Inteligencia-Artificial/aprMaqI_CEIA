{
 "cells": [
  {
   "cell_type": "code",
   "execution_count": 29,
   "metadata": {},
   "outputs": [],
   "source": [
    "import pandas as pd\n",
    "import numpy as np\n",
    "import matplotlib.pyplot as plt\n",
    "import seaborn as sns\n",
    "\n",
    "from sklearn.preprocessing import StandardScaler\n",
    "from sklearn.model_selection import train_test_split\n",
    "from sklearn.metrics import accuracy_score, f1_score, confusion_matrix, ConfusionMatrixDisplay, RocCurveDisplay\n",
    "\n",
    "sns.set()"
   ]
  },
  {
   "cell_type": "markdown",
   "metadata": {},
   "source": [
    "# PyTorch\n",
    "\n",
    "PyTorch nos ofrece una serie de herramientas que no solo nos permite armar redes profundas, sino ademas realizar diferentes operaciones de transformaciones y mediciones de metricas de evaluación.\n",
    "\n",
    "Hoy en dia es una libreria muy popular, dado que nos facilita realizar procesamiento que normalmente se necesitaria de conocimientos más avanzados de programación, como por ejemplo, el acceso al uso de la GPU, en el cual es transparente al usuario.\n",
    "\n",
    "Además, el uso de PyTorch es mas pythonic que Tensorflow, por lo que si uno está familiarizado con Python, encuentra mas facil el uso de PyTorch que Tensorflow.\n",
    "\n",
    "## Instalación \n",
    "\n",
    "En este caso vamos a instalar sin realizar nada para hacer andar la GPU, eso lo verán más adelante o pueden buscar tutoriales en internet. Esto dependerá de que marca de GPU tengan o inclusive de arquitectura.\n",
    "\n",
    "Para instalar PyTorch unicamente para CPU hacemos:\n",
    "\n",
    "`!pip3 install torch torchvision torchaudio`"
   ]
  },
  {
   "cell_type": "code",
   "execution_count": 30,
   "metadata": {},
   "outputs": [],
   "source": [
    "# Llamamos a la libreria\n",
    "import torch"
   ]
  },
  {
   "cell_type": "markdown",
   "metadata": {},
   "source": [
    "## Tensores de PyTorch\n",
    "\n",
    "PyTorch nos presenta una estructura de datos similar a arrays o matrices, llamada tensores. Los tensores es nuestra estructura que nos permite codificar nuestras entradas o salidas"
   ]
  },
  {
   "cell_type": "code",
   "execution_count": 31,
   "metadata": {},
   "outputs": [],
   "source": [
    "# Igual que Numpy podemos crear tensores a mano\n",
    "\n",
    "tensor1 = torch.tensor([1, 2])\n",
    "tensor2 = torch.tensor([[1, 2], [3, 4]])"
   ]
  },
  {
   "cell_type": "code",
   "execution_count": 32,
   "metadata": {},
   "outputs": [
    {
     "data": {
      "text/plain": [
       "tensor([1, 2])"
      ]
     },
     "execution_count": 32,
     "metadata": {},
     "output_type": "execute_result"
    }
   ],
   "source": [
    "tensor1"
   ]
  },
  {
   "cell_type": "code",
   "execution_count": 33,
   "metadata": {},
   "outputs": [
    {
     "data": {
      "text/plain": [
       "tensor([[1, 2],\n",
       "        [3, 4]])"
      ]
     },
     "execution_count": 33,
     "metadata": {},
     "output_type": "execute_result"
    }
   ],
   "source": [
    "tensor2"
   ]
  },
  {
   "cell_type": "code",
   "execution_count": 34,
   "metadata": {},
   "outputs": [],
   "source": [
    "# Podemos crearlo desde un array de Numpy, lo que nos da la forma de interactuar entre ellos\n",
    "\n",
    "numpy_array = np.ones([10, 3])\n",
    "tensor3 = torch.from_numpy(numpy_array)"
   ]
  },
  {
   "cell_type": "code",
   "execution_count": 35,
   "metadata": {},
   "outputs": [
    {
     "data": {
      "text/plain": [
       "tensor([[1., 1., 1.],\n",
       "        [1., 1., 1.],\n",
       "        [1., 1., 1.],\n",
       "        [1., 1., 1.],\n",
       "        [1., 1., 1.],\n",
       "        [1., 1., 1.],\n",
       "        [1., 1., 1.],\n",
       "        [1., 1., 1.],\n",
       "        [1., 1., 1.],\n",
       "        [1., 1., 1.]], dtype=torch.float64)"
      ]
     },
     "execution_count": 35,
     "metadata": {},
     "output_type": "execute_result"
    }
   ],
   "source": [
    "tensor3"
   ]
  },
  {
   "cell_type": "code",
   "execution_count": 36,
   "metadata": {},
   "outputs": [
    {
     "name": "stdout",
     "output_type": "stream",
     "text": [
      "Tensor aleatorio: \n",
      " tensor([[0.9543, 0.9506, 0.8495],\n",
      "        [0.4238, 0.2318, 0.1562]]) \n",
      "\n",
      "Tensor de unos: \n",
      " tensor([[1., 1., 1.],\n",
      "        [1., 1., 1.]]) \n",
      "\n",
      "Tensor de ceros: \n",
      " tensor([[0., 0., 0.],\n",
      "        [0., 0., 0.]])\n"
     ]
    }
   ],
   "source": [
    "#Tambien tenemos formas similares a la de numpy\n",
    "shape = (2,3)\n",
    "\n",
    "rand_tensor = torch.rand(shape)\n",
    "ones_tensor = torch.ones(shape)\n",
    "zeros_tensor = torch.zeros(shape)\n",
    "\n",
    "print(f\"Tensor aleatorio: \\n {rand_tensor} \\n\")\n",
    "print(f\"Tensor de unos: \\n {ones_tensor} \\n\")\n",
    "print(f\"Tensor de ceros: \\n {zeros_tensor}\")"
   ]
  },
  {
   "cell_type": "code",
   "execution_count": 37,
   "metadata": {},
   "outputs": [
    {
     "name": "stdout",
     "output_type": "stream",
     "text": [
      "Tamaño del tensor: torch.Size([2, 3])\n",
      "Tipo de dato del tensor: torch.float32\n",
      "En donde está guardado el tensor: cpu\n"
     ]
    }
   ],
   "source": [
    "# Igual que Numpy, los tensores tiene atributos que nos permiten \n",
    "# entender mejor como estan formados\n",
    "\n",
    "print(f\"Tamaño del tensor: {rand_tensor.shape}\")\n",
    "print(f\"Tipo de dato del tensor: {rand_tensor.dtype}\")\n",
    "print(f\"En donde está guardado el tensor: {rand_tensor.device}\")"
   ]
  },
  {
   "cell_type": "markdown",
   "metadata": {},
   "source": [
    "Torch tiene como 100 operaciones de tensores implementadas. Incluyen operaciones aritmeticas, algebra lineal, manipulacion de matrices, sampleo, concatenado, etc. La lista completa de cosas que se pueden hacer la pueden ver [acá](https://pytorch.org/docs/stable/torch.html)"
   ]
  },
  {
   "cell_type": "code",
   "execution_count": 38,
   "metadata": {},
   "outputs": [
    {
     "name": "stdout",
     "output_type": "stream",
     "text": [
      "Primera fila: tensor([1., 1., 1., 1.])\n",
      "Primera columna: tensor([1., 1., 1., 1.])\n",
      "Ultima columna: tensor([1., 1., 1., 1.])\n",
      "tensor([[1., 0., 1., 1.],\n",
      "        [1., 0., 1., 1.],\n",
      "        [1., 0., 1., 1.],\n",
      "        [1., 0., 1., 1.]])\n"
     ]
    }
   ],
   "source": [
    "tensor_test = torch.ones(4, 4)\n",
    "print(f\"Primera fila: {tensor_test[0]}\")\n",
    "print(f\"Primera columna: {tensor_test[:, 0]}\")\n",
    "print(f\"Ultima columna: {tensor_test[:, -1]}\")\n",
    "\n",
    "# Asignamos usando slicing\n",
    "tensor_test[:,1] = 0\n",
    "print(tensor_test)"
   ]
  },
  {
   "cell_type": "code",
   "execution_count": 11,
   "metadata": {},
   "outputs": [
    {
     "name": "stdout",
     "output_type": "stream",
     "text": [
      "[[1. 0. 1. 1.]\n",
      " [1. 0. 1. 1.]\n",
      " [1. 0. 1. 1.]\n",
      " [1. 0. 1. 1.]]\n"
     ]
    }
   ],
   "source": [
    "# Como podemos ir de Numpy -> Tensor, podemos ir al revez\n",
    "numpy_array = tensor_test.numpy()\n",
    "\n",
    "print(numpy_array)\n",
    "\n",
    "# Si tenemos la GPU habilitada, esto es mas poderoso, porque nos permite ir de \n",
    "# CPU a GPU y viceversa"
   ]
  },
  {
   "cell_type": "markdown",
   "metadata": {},
   "source": [
    "## Datasets y dataloaders\n",
    "\n",
    "PyTorch tambien nos da herramientas para manejar datasets. Para ello nos provee de *torch.utils.data.DataLoader* y *torch.utils.data.Dataset*. Dataset nos permite almacenar observaciones y labels, y DataLoader nos permite definir iterables para permitinos acceder a los datos.\n",
    "\n",
    "Aqui no lo vamos a usar, pero es interesante mencionar, sobretodo cuando se trabaja con datasets dificiles de usar, como imagenes o audios.\n",
    "\n",
    "## Construyendo una red neuronal\n",
    "\n",
    "Dado que como vimos que una red está conformado por capas:\n",
    "\n",
    "![](./neuronnetex.png)\n",
    "\n",
    "Por lo que la forma que construimos redes en PyTorch es de similar forma. Aca vamos a construir todas redes *fully connected* que son redes feed-foward. \n",
    "\n",
    "Para construir una red neuronal, creamos una clase que hereda la clase **torch.nn.Module**. *torch.nn.Module*  cuenta con todos los bloques con todos los bloques que se necesita para construir una red neuronal y permite realizar todas las operaciones para obtener un valor de salida.\n",
    "\n",
    "Empecemos creando algunas redes\n",
    "\n",
    "### Perceptron\n",
    "\n",
    "Para crear el perceptron creamos una clase llamada **perceptron** que tiene como padre a **torch.nn.Module**. En su *init()* definimos a las capas:\n",
    "\n",
    "- torch.nn.Sequential: Es un contenedor que nos permite ir apilando las capas que queremos de nuestra red. Este contenedor ademas se ocupa de conectas a las capas\n",
    "- torch.nn.Linear: Es la capa que tiene los pesos de la entrada. En PyTorch, esa capa hay que especificarla, para que quede claro que es lineal (recordar w1x1 + x2x2 +...)\n",
    "- torch.nn.Sigmoid: Es la capa de funcion de activacion que usaos (Sigmoide)\n",
    "\n"
   ]
  },
  {
   "cell_type": "code",
   "execution_count": 39,
   "metadata": {},
   "outputs": [],
   "source": [
    "class perceptron(torch.nn.Module):\n",
    "    def __init__(self, input_size, output_size):\n",
    "        super().__init__()\n",
    "\n",
    "        self.layers = torch.nn.Sequential(\n",
    "            torch.nn.Linear(input_size, output_size),\n",
    "            torch.nn.Sigmoid()\n",
    "        )\n",
    "        \n",
    "    #Define a la parte de prediccion\n",
    "    def forward(self, x):\n",
    "\n",
    "        # Pasamos por el perceptron\n",
    "        y_prob = self.layers(x)\n",
    "\n",
    "        return y_prob\n",
    "    \n",
    "    def digital_out(self, x):\n",
    "\n",
    "        y_prob = self.layers(x)\n",
    "\n",
    "        return torch.heaviside((y_prob * 2) - 1, values=torch.tensor(0.))\n",
    "        "
   ]
  },
  {
   "cell_type": "markdown",
   "metadata": {},
   "source": [
    "Para arrancar, entremos a la red para que aprenda la función AND"
   ]
  },
  {
   "cell_type": "code",
   "execution_count": 40,
   "metadata": {},
   "outputs": [],
   "source": [
    "# Entrenos al perceptron para que pueda reproducir a la funcion AND de tres variables\n",
    "X_array = np.array([\n",
    "    [0, 0, 0],\n",
    "    [0, 0, 1],\n",
    "    [0, 1, 0],\n",
    "    [0, 1, 1],\n",
    "    [1, 0, 0],\n",
    "    [1, 0, 1],\n",
    "    [1, 1, 0],\n",
    "    [1, 1, 1.]])\n",
    "\n",
    "X = torch.from_numpy(X_array)\n",
    "X = X.to(torch.float32)\n",
    "\n",
    "y = torch.zeros((8, 1))\n",
    "y[-1] = 1"
   ]
  },
  {
   "cell_type": "markdown",
   "metadata": {},
   "source": [
    "Para entrenar con PyTorch necesitamos:\n",
    "\n",
    "- Una función de coste que nos permita calcular el error. Es la función para que podamos movernos con el gradiente dado los pesos. Las que nos ofrece PyTorch la podemos ver [acá](https://pytorch.org/docs/stable/nn.html#loss-functions)\n",
    "- Un optimizador que nos permita encontrar los pesos sinápticos al aplicar back-propagation. Hay muchas variantes del gradiente descendiente. Aqui usaremos Stochastic Gradient Descendient. Pueden ver más información [acá](https://pytorch.org/docs/stable/optim.html#torch.optim.Optimizer)\n",
    "\n",
    "Entonces para entrenar debemos:\n",
    "\n",
    "1. Iniciar la red, el optimizador y la funcion de coste.\n",
    "2. Fijar los gradientes en cero. Esto nos permite limpiar calculos viejos.\n",
    "3. Obtener una predicción inicial de la red\n",
    "4. Calcular el error generado por la red.\n",
    "5. Propagar el error mediante back-propagation.\n",
    "6. Aplicamos el optimizador\n",
    "7. Repetimos los pasos 2 al 6"
   ]
  },
  {
   "cell_type": "code",
   "execution_count": 41,
   "metadata": {},
   "outputs": [],
   "source": [
    "# Creamos el perceptron de tres entrada y una salida\n",
    "net = perceptron(3, 1)\n",
    "# Usamos como funcion de error a MSE\n",
    "criterion = torch.nn.MSELoss()\n",
    "optimizer = torch.optim.SGD(net.parameters(), lr=1)\n",
    "\n",
    "# Creamos una lista que mida el error en el loop\n",
    "errors = list()\n",
    "\n",
    "# Realizamos la iteracion\n",
    "for epoch in range(500):\n",
    "\n",
    "    # Para cada uno de los datos del dataset\n",
    "    values = np.random.permutation(X.shape[0])\n",
    "    for i in values:\n",
    "        # Limpiamos los gradientes\n",
    "        optimizer.zero_grad()\n",
    "\n",
    "        # Obtenemos todas las predicciones\n",
    "        outputs = net(X[i])\n",
    "\n",
    "        # Calculamos el error\n",
    "        loss = criterion(outputs, y[i])\n",
    "\n",
    "        # Propagamos el error\n",
    "        loss.backward()\n",
    "\n",
    "        # Optimizamos los parametros\n",
    "        optimizer.step()\n",
    "\n",
    "    errors.append(loss.item())\n"
   ]
  },
  {
   "cell_type": "code",
   "execution_count": 42,
   "metadata": {},
   "outputs": [
    {
     "data": {
      "image/png": "[encoded data removed]",
      "text/plain": [
       "<Figure size 500x500 with 1 Axes>"
      ]
     },
     "metadata": {},
     "output_type": "display_data"
    }
   ],
   "source": [
    "fig, ax = plt.subplots(figsize=(5,5))\n",
    "\n",
    "ax.plot(errors)\n",
    "ax.set_ylabel(\"MSE\")\n",
    "ax.set_xlabel(\"Iteración\")\n",
    "plt.show();"
   ]
  },
  {
   "cell_type": "code",
   "execution_count": 43,
   "metadata": {},
   "outputs": [
    {
     "name": "stdout",
     "output_type": "stream",
     "text": [
      "Si la entrada es 0, 0, 1, la salida es: 0.0\n",
      "Si la entrada es 1, 1, 1, la salida es: 1.0\n"
     ]
    }
   ],
   "source": [
    "# Probemos a la red\n",
    "test_1 = net.digital_out(torch.tensor([0., 0, 1]))\n",
    "test_2 = net.digital_out(torch.tensor([1., 1, 1]))\n",
    "\n",
    "print(f\"Si la entrada es 0, 0, 1, la salida es: {test_1.item()}\")\n",
    "print(f\"Si la entrada es 1, 1, 1, la salida es: {test_2.item()}\")\n"
   ]
  },
  {
   "cell_type": "markdown",
   "metadata": {},
   "source": [
    "## Perceptron como regresión\n",
    "\n",
    "Usando un perpectron, usemoslo en un ejemplo de regresión. Para ello vamos a convertir de Farenheit a Celsium. En la vida real, esto no tendria sentido, pero es a modo didactico."
   ]
  },
  {
   "cell_type": "code",
   "execution_count": 44,
   "metadata": {},
   "outputs": [],
   "source": [
    "# Primero definamos la funcion, que nos devuelva el valor de grado centigrado dado Farenheit\n",
    "def far_to_celsium(farenheit):\n",
    "    return (farenheit - 32) / 1.8\n",
    "\n",
    "X_numpy = np.linspace(0, 220, 60000).reshape([-1, 1])\n",
    "y_numpy = far_to_celsium(X_numpy).reshape([-1, 1])\n",
    "\n",
    "# Creamos los valores de entrada\n",
    "X = torch.from_numpy(X_numpy).reshape([-1, 1])\n",
    "X = X.to(torch.float32)\n",
    "\n",
    "y = torch.from_numpy(y_numpy).reshape([-1, 1])\n",
    "y = y.to(torch.float32)"
   ]
  },
  {
   "cell_type": "code",
   "execution_count": 45,
   "metadata": {},
   "outputs": [],
   "source": [
    "# Creamos el perceptron para regresion\n",
    "class perceptron(torch.nn.Module):\n",
    "    def __init__(self):\n",
    "        super().__init__()\n",
    "\n",
    "        # En este caso solo nos quedamos con los datos lineales\n",
    "        self.layers = torch.nn.Sequential(\n",
    "            torch.nn.Linear(1, 1),\n",
    "        )\n",
    "    \n",
    "    def forward(self, x):\n",
    "\n",
    "        # Pasamos por el perceptron\n",
    "        y_prob = self.layers(x)\n",
    "\n",
    "        return y_prob"
   ]
  },
  {
   "cell_type": "code",
   "execution_count": 53,
   "metadata": {},
   "outputs": [],
   "source": [
    "# Creamos el perceptron para regresion\n",
    "net = perceptron()\n",
    "# Usamos como funcion de error a MSE\n",
    "criterion = torch.nn.MSELoss()\n",
    "optimizer = torch.optim.SGD(net.parameters(), lr=0.00001)\n",
    "\n",
    "# Creamos una lista que mida el error en el loop\n",
    "errors = list()\n",
    "\n",
    "# Realizamos la iteracion\n",
    "for epoch in range(40000):\n",
    "\n",
    "    values = np.random.permutation(X.shape[0]) \n",
    "\n",
    "    subsetX = X[values[:50]]\n",
    "    subsety = y[values[:50]]\n",
    "\n",
    "    # Limpiamos los gradientes\n",
    "    optimizer.zero_grad()\n",
    "\n",
    "    # Obtenemos todas las predicciones\n",
    "    outputs = net(subsetX)\n",
    "\n",
    "    # Calculamos el error\n",
    "    loss = criterion(outputs, subsety)\n",
    "\n",
    "    # Propagamos el error\n",
    "    loss.backward()\n",
    "\n",
    "    # Optimizamos los parametros\n",
    "    optimizer.step()\n",
    "\n",
    "    errors.append(loss.item())"
   ]
  },
  {
   "cell_type": "code",
   "execution_count": 54,
   "metadata": {},
   "outputs": [
    {
     "data": {
      "image/png": "[encoded data removed]",
      "text/plain": [
       "<Figure size 500x500 with 1 Axes>"
      ]
     },
     "metadata": {},
     "output_type": "display_data"
    }
   ],
   "source": [
    "fig, ax = plt.subplots(figsize=(5,5))\n",
    "\n",
    "ax.plot(errors)\n",
    "ax.set_ylabel(\"MSE\")\n",
    "ax.set_xlabel(\"Iteración\")\n",
    "ax.set_ylim([0, 300])\n",
    "plt.show();"
   ]
  },
  {
   "cell_type": "code",
   "execution_count": 21,
   "metadata": {},
   "outputs": [
    {
     "name": "stdout",
     "output_type": "stream",
     "text": [
      "Si tenemos 73.4F, en centigrado segun el modelo es: 29.738759994506836\n",
      "Si tenemos 73.4F, en centigrado de verdad es: 23.000000000000004\n",
      "Si tenemos 104F, en centigrado es: 43.74089813232422\n",
      "Si tenemos 104F, en centigrado de verdad es: 40.0\n"
     ]
    }
   ],
   "source": [
    "# Probemos a la red\n",
    "test_1 = torch.tensor([[73.4]])\n",
    "test_1 = test_1.to(torch.float32)\n",
    "test_2 = torch.tensor([[104]])\n",
    "test_2 = test_2.to(torch.float32)\n",
    "\n",
    "print(f\"Si tenemos 73.4F, en centigrado segun el modelo es: {net(test_1).item()}\")\n",
    "print(f\"Si tenemos 73.4F, en centigrado de verdad es: {far_to_celsium(73.4)}\")\n",
    "print(f\"Si tenemos 104F, en centigrado es: {net(test_2).item()}\")\n",
    "print(f\"Si tenemos 104F, en centigrado de verdad es: {far_to_celsium(104)}\")"
   ]
  },
  {
   "cell_type": "markdown",
   "metadata": {},
   "source": [
    "## Red Feed-Foward en Heart\n",
    "\n",
    "Usemos un caso real para probar el modelo, el dataset [**Heart**](https://archive.ics.uci.edu/dataset/45/heart+disease) que usamos anteriormente.\n",
    "\n",
    "Recordemos que son mediciones de 1025 pacientes, con 13 atributos de variables fisiologicas. Además contamos con una columna de valores binarios llamada **target** que nos indica si el paciente tiene una enfermedad coronaria o no.\n",
    "\n",
    "Para practicar el modelo SVM como clasificador (SVC), vamos a volver a usar el dataset [**Heart**](https://archive.ics.uci.edu/dataset/45/heart+disease), el cual mediciones de 1025 pacientes, con 13 atributos de variables fisiologicas. Además contamos con una columna de valores binarios llamada **target** que nos indica si el paciente tiene una enfermedad coronaria o no."
   ]
  },
  {
   "cell_type": "code",
   "execution_count": 55,
   "metadata": {},
   "outputs": [],
   "source": [
    "# Cargamos el dataset\n",
    "df_heart = pd.read_csv(\"./Heart.csv\")\n",
    "\n",
    "# Hacemos variable dummy a las categoricas\n",
    "categorical_features = [\"cp\", \"restecg\", \"slope\", \"ca\", \"thal\"]\n",
    "df_heart_dummies = pd.get_dummies(data=df_heart, columns=categorical_features)\n",
    "\n",
    "df_heart_dummies.drop(columns=[\"cp_3\", \"restecg_2\", \"slope_2\", \"ca_4\", \"thal_3\"], inplace=True)\n",
    "\n",
    "X = df_heart_dummies.drop(columns='target').values\n",
    "y = df_heart.iloc[:, -1].values\n",
    "\n",
    "# Separemos el test de testeo\n",
    "X_train, X_test, y_train, y_test = train_test_split(X, y, test_size = 0.3, random_state = 42)\n",
    "# Y el de validacion\n",
    "X_train, X_val, y_train, y_val = train_test_split(X_train, y_train, test_size = 0.1, random_state = 42)\n",
    "\n",
    "# Escalamos las variables\n",
    "sc_X = StandardScaler()\n",
    "X_train = sc_X.fit_transform(X_train)\n",
    "X_test = sc_X.transform(X_test)\n",
    "X_val = sc_X.transform(X_val)\n",
    "\n",
    "X_train = torch.from_numpy(X_train)\n",
    "X_train = X_train.to(torch.float32)\n",
    "X_test = torch.from_numpy(X_test)\n",
    "X_test = X_test.to(torch.float32)\n",
    "X_val = torch.from_numpy(X_val)\n",
    "X_val = X_val.to(torch.float32)\n",
    "\n",
    "y_train = torch.from_numpy(y_train)\n",
    "y_train = y_train.to(torch.float32)\n",
    "y_test = torch.from_numpy(y_test)\n",
    "y_test = y_test.to(torch.float32)\n",
    "y_val = torch.from_numpy(y_val)\n",
    "y_val = y_val.to(torch.float32)\n"
   ]
  },
  {
   "cell_type": "code",
   "execution_count": 56,
   "metadata": {},
   "outputs": [],
   "source": [
    "class feed_foward(torch.nn.Module):\n",
    "    def __init__(self):\n",
    "        super().__init__()\n",
    "\n",
    "        self.layers = torch.nn.Sequential(\n",
    "            torch.nn.Linear(22, 7),\n",
    "            torch.nn.ReLU(),\n",
    "            torch.nn.Linear(7, 1),\n",
    "            torch.nn.Sigmoid()\n",
    "        )\n",
    "        \n",
    "    #Define a la parte de prediccion\n",
    "    def forward(self, x):\n",
    "\n",
    "        # Pasamos por el perceptron\n",
    "        y_prob = self.layers(x)\n",
    "\n",
    "        return y_prob\n",
    "    \n",
    "    def digital_out(self, x):\n",
    "\n",
    "        y_prob = self.layers(x)\n",
    "\n",
    "        return torch.heaviside((y_prob * 2) - 1, values=torch.tensor(0.))"
   ]
  },
  {
   "cell_type": "code",
   "execution_count": 57,
   "metadata": {},
   "outputs": [],
   "source": [
    "# Creamos el perceptron para regresion\n",
    "net = feed_foward()\n",
    "# Usamos como funcion de error a log loss\n",
    "criterion = torch.nn.BCELoss()\n",
    "optimizer = torch.optim.SGD(net.parameters(), lr=0.2)\n",
    "\n",
    "# Creamos una lista que mida el error en el loop\n",
    "errors = list()\n",
    "errors_val = list()\n",
    "\n",
    "# Realizamos la iteracion\n",
    "for epoch in range(8000):\n",
    "\n",
    "    values = np.random.permutation(X_train.shape[0]) \n",
    "\n",
    "    subsetX = X_train[values[:200]]\n",
    "    subsety = y_train[values[:200]]\n",
    "\n",
    "    # Limpiamos los gradientes\n",
    "    optimizer.zero_grad()\n",
    "\n",
    "    # Obtenemos todas las predicciones\n",
    "    outputs = net(subsetX)\n",
    "\n",
    "    # Calculamos el error\n",
    "    loss = criterion(outputs, subsety.reshape([-1, 1]))\n",
    "\n",
    "    # Propagamos el error\n",
    "    loss.backward()\n",
    "\n",
    "    # Optimizamos los parametros\n",
    "    optimizer.step()\n",
    "\n",
    "    # Medimos el error de validacion\n",
    "    outputs_val = net(X_val)\n",
    "    loss_val = criterion(outputs_val, y_val.reshape([-1, 1]))\n",
    "    \n",
    "    errors.append(loss.item())\n",
    "    errors_val.append(loss_val.item())\n",
    "    "
   ]
  },
  {
   "cell_type": "code",
   "execution_count": 58,
   "metadata": {},
   "outputs": [
    {
     "data": {
      "image/png": "[encoded data removed]",
      "text/plain": [
       "<Figure size 500x500 with 1 Axes>"
      ]
     },
     "metadata": {},
     "output_type": "display_data"
    }
   ],
   "source": [
    "fig, ax = plt.subplots(figsize=(5,5))\n",
    "\n",
    "ax.plot(errors, label=\"Training\")\n",
    "ax.plot(errors_val, label=\"Validation\")\n",
    "ax.set_ylabel(\"LogLoss\")\n",
    "ax.set_xlabel(\"Iteración\")\n",
    "ax.legend()\n",
    "plt.show();"
   ]
  },
  {
   "cell_type": "code",
   "execution_count": 59,
   "metadata": {},
   "outputs": [
    {
     "data": {
      "image/png": "[encoded data removed]",
      "text/plain": [
       "<Figure size 500x500 with 2 Axes>"
      ]
     },
     "metadata": {},
     "output_type": "display_data"
    }
   ],
   "source": [
    "y_prob = net(X_test).detach().numpy().reshape(-1)\n",
    "y_pred = net.digital_out(X_test).detach().numpy().reshape(-1)\n",
    "\n",
    "cm = confusion_matrix(y_test, y_pred)\n",
    "disp = ConfusionMatrixDisplay(confusion_matrix=cm)\n",
    "\n",
    "fig, ax = plt.subplots(figsize=(5,5))\n",
    "ax.grid(False)\n",
    "disp.plot(ax=ax);"
   ]
  },
  {
   "cell_type": "code",
   "execution_count": 60,
   "metadata": {},
   "outputs": [
    {
     "name": "stdout",
     "output_type": "stream",
     "text": [
      "El porcentaje de exactitud es de: 96%\n",
      "F1-score de testeo fue: 0.958041958041958\n"
     ]
    }
   ],
   "source": [
    "print(f\"El porcentaje de exactitud es de:{accuracy_score(y_test, y_pred)*100: .0f}%\")\n",
    "print(f\"F1-score de testeo fue: {f1_score(y_test, y_pred)}\")"
   ]
  },
  {
   "cell_type": "code",
   "execution_count": 61,
   "metadata": {},
   "outputs": [
    {
     "data": {
      "image/png": "[encoded data removed]",
      "text/plain": [
       "<Figure size 500x500 with 1 Axes>"
      ]
     },
     "metadata": {},
     "output_type": "display_data"
    }
   ],
   "source": [
    "fig, ax = plt.subplots(figsize=(5,5))\n",
    "svc_disp = RocCurveDisplay.from_predictions(y_test, y_pred, ax=ax)\n",
    "\n",
    "plt.show();"
   ]
  },
  {
   "cell_type": "code",
   "execution_count": null,
   "metadata": {},
   "outputs": [],
   "source": []
  }
 ],
 "metadata": {
  "kernelspec": {
   "display_name": "notebook_env_python3_11",
   "language": "python",
   "name": "notebook_env_python3_11"
  },
  "language_info": {
   "codemirror_mode": {
    "name": "ipython",
    "version": 3
   },
   "file_extension": ".py",
   "mimetype": "text/x-python",
   "name": "python",
   "nbconvert_exporter": "python",
   "pygments_lexer": "ipython3",
   "version": "3.11.5"
  },
  "orig_nbformat": 4
 },
 "nbformat": 4,
 "nbformat_minor": 2
}
